{
  "nbformat": 4,
  "nbformat_minor": 0,
  "metadata": {
    "colab": {
      "provenance": [],
      "gpuType": "T4",
      "mount_file_id": "1yKPoWjI5jSFz8ulyarxLN98IYKMdgok8",
      "authorship_tag": "ABX9TyNaVCb0Zg0Q1zR6l4YAZK8Q",
      "include_colab_link": true
    },
    "kernelspec": {
      "name": "python3",
      "display_name": "Python 3"
    },
    "language_info": {
      "name": "python"
    },
    "accelerator": "GPU"
  },
  "cells": [
    {
      "cell_type": "markdown",
      "metadata": {
        "id": "view-in-github",
        "colab_type": "text"
      },
      "source": [
        "<a href=\"https://colab.research.google.com/github/dashatrue/g_colab/blob/main/MO_lab5.ipynb\" target=\"_parent\"><img src=\"https://colab.research.google.com/assets/colab-badge.svg\" alt=\"Open In Colab\"/></a>"
      ]
    },
    {
      "cell_type": "code",
      "execution_count": null,
      "metadata": {
        "id": "yldh0pgizhR-"
      },
      "outputs": [],
      "source": [
        "import numpy as np\n",
        "import pandas as pd\n",
        "import matplotlib.pyplot as plt\n",
        "plt.style.use('ggplot')\n",
        "%matplotlib inline"
      ]
    },
    {
      "cell_type": "code",
      "source": [
        "url = '/content/drive/MyDrive/Colab Notebooks/Employee.csv'\n",
        "data = pd.read_csv(url, header=0, na_values='?', delimiter=',')\n",
        "data.shape"
      ],
      "metadata": {
        "colab": {
          "base_uri": "https://localhost:8080/"
        },
        "id": "2Yxx0MyK3GW0",
        "outputId": "e44cecd7-17e1-4c32-904b-1ff693006176"
      },
      "execution_count": null,
      "outputs": [
        {
          "output_type": "execute_result",
          "data": {
            "text/plain": [
              "(4653, 9)"
            ]
          },
          "metadata": {},
          "execution_count": 62
        }
      ]
    },
    {
      "cell_type": "code",
      "source": [
        "data.head()"
      ],
      "metadata": {
        "colab": {
          "base_uri": "https://localhost:8080/",
          "height": 206
        },
        "id": "ELWBWquI_YvP",
        "outputId": "ebc7011f-4505-4b76-cfff-279f7f15dbf3"
      },
      "execution_count": null,
      "outputs": [
        {
          "output_type": "execute_result",
          "data": {
            "text/plain": [
              "   Education  JoiningYear       City  PaymentTier  Age  Gender EverBenched  \\\n",
              "0  Bachelors         2017  Bangalore            3   34    Male          No   \n",
              "1  Bachelors         2013       Pune            1   28  Female          No   \n",
              "2  Bachelors         2014  New Delhi            3   38  Female          No   \n",
              "3    Masters         2016  Bangalore            3   27    Male          No   \n",
              "4    Masters         2017       Pune            3   24    Male         Yes   \n",
              "\n",
              "   ExperienceInCurrentDomain  LeaveOrNot  \n",
              "0                          0           0  \n",
              "1                          3           1  \n",
              "2                          2           0  \n",
              "3                          5           1  \n",
              "4                          2           1  "
            ],
            "text/html": [
              "\n",
              "  <div id=\"df-232cab60-4755-4f42-8a29-bb0d5302df61\" class=\"colab-df-container\">\n",
              "    <div>\n",
              "<style scoped>\n",
              "    .dataframe tbody tr th:only-of-type {\n",
              "        vertical-align: middle;\n",
              "    }\n",
              "\n",
              "    .dataframe tbody tr th {\n",
              "        vertical-align: top;\n",
              "    }\n",
              "\n",
              "    .dataframe thead th {\n",
              "        text-align: right;\n",
              "    }\n",
              "</style>\n",
              "<table border=\"1\" class=\"dataframe\">\n",
              "  <thead>\n",
              "    <tr style=\"text-align: right;\">\n",
              "      <th></th>\n",
              "      <th>Education</th>\n",
              "      <th>JoiningYear</th>\n",
              "      <th>City</th>\n",
              "      <th>PaymentTier</th>\n",
              "      <th>Age</th>\n",
              "      <th>Gender</th>\n",
              "      <th>EverBenched</th>\n",
              "      <th>ExperienceInCurrentDomain</th>\n",
              "      <th>LeaveOrNot</th>\n",
              "    </tr>\n",
              "  </thead>\n",
              "  <tbody>\n",
              "    <tr>\n",
              "      <th>0</th>\n",
              "      <td>Bachelors</td>\n",
              "      <td>2017</td>\n",
              "      <td>Bangalore</td>\n",
              "      <td>3</td>\n",
              "      <td>34</td>\n",
              "      <td>Male</td>\n",
              "      <td>No</td>\n",
              "      <td>0</td>\n",
              "      <td>0</td>\n",
              "    </tr>\n",
              "    <tr>\n",
              "      <th>1</th>\n",
              "      <td>Bachelors</td>\n",
              "      <td>2013</td>\n",
              "      <td>Pune</td>\n",
              "      <td>1</td>\n",
              "      <td>28</td>\n",
              "      <td>Female</td>\n",
              "      <td>No</td>\n",
              "      <td>3</td>\n",
              "      <td>1</td>\n",
              "    </tr>\n",
              "    <tr>\n",
              "      <th>2</th>\n",
              "      <td>Bachelors</td>\n",
              "      <td>2014</td>\n",
              "      <td>New Delhi</td>\n",
              "      <td>3</td>\n",
              "      <td>38</td>\n",
              "      <td>Female</td>\n",
              "      <td>No</td>\n",
              "      <td>2</td>\n",
              "      <td>0</td>\n",
              "    </tr>\n",
              "    <tr>\n",
              "      <th>3</th>\n",
              "      <td>Masters</td>\n",
              "      <td>2016</td>\n",
              "      <td>Bangalore</td>\n",
              "      <td>3</td>\n",
              "      <td>27</td>\n",
              "      <td>Male</td>\n",
              "      <td>No</td>\n",
              "      <td>5</td>\n",
              "      <td>1</td>\n",
              "    </tr>\n",
              "    <tr>\n",
              "      <th>4</th>\n",
              "      <td>Masters</td>\n",
              "      <td>2017</td>\n",
              "      <td>Pune</td>\n",
              "      <td>3</td>\n",
              "      <td>24</td>\n",
              "      <td>Male</td>\n",
              "      <td>Yes</td>\n",
              "      <td>2</td>\n",
              "      <td>1</td>\n",
              "    </tr>\n",
              "  </tbody>\n",
              "</table>\n",
              "</div>\n",
              "    <div class=\"colab-df-buttons\">\n",
              "\n",
              "  <div class=\"colab-df-container\">\n",
              "    <button class=\"colab-df-convert\" onclick=\"convertToInteractive('df-232cab60-4755-4f42-8a29-bb0d5302df61')\"\n",
              "            title=\"Convert this dataframe to an interactive table.\"\n",
              "            style=\"display:none;\">\n",
              "\n",
              "  <svg xmlns=\"http://www.w3.org/2000/svg\" height=\"24px\" viewBox=\"0 -960 960 960\">\n",
              "    <path d=\"M120-120v-720h720v720H120Zm60-500h600v-160H180v160Zm220 220h160v-160H400v160Zm0 220h160v-160H400v160ZM180-400h160v-160H180v160Zm440 0h160v-160H620v160ZM180-180h160v-160H180v160Zm440 0h160v-160H620v160Z\"/>\n",
              "  </svg>\n",
              "    </button>\n",
              "\n",
              "  <style>\n",
              "    .colab-df-container {\n",
              "      display:flex;\n",
              "      gap: 12px;\n",
              "    }\n",
              "\n",
              "    .colab-df-convert {\n",
              "      background-color: #E8F0FE;\n",
              "      border: none;\n",
              "      border-radius: 50%;\n",
              "      cursor: pointer;\n",
              "      display: none;\n",
              "      fill: #1967D2;\n",
              "      height: 32px;\n",
              "      padding: 0 0 0 0;\n",
              "      width: 32px;\n",
              "    }\n",
              "\n",
              "    .colab-df-convert:hover {\n",
              "      background-color: #E2EBFA;\n",
              "      box-shadow: 0px 1px 2px rgba(60, 64, 67, 0.3), 0px 1px 3px 1px rgba(60, 64, 67, 0.15);\n",
              "      fill: #174EA6;\n",
              "    }\n",
              "\n",
              "    .colab-df-buttons div {\n",
              "      margin-bottom: 4px;\n",
              "    }\n",
              "\n",
              "    [theme=dark] .colab-df-convert {\n",
              "      background-color: #3B4455;\n",
              "      fill: #D2E3FC;\n",
              "    }\n",
              "\n",
              "    [theme=dark] .colab-df-convert:hover {\n",
              "      background-color: #434B5C;\n",
              "      box-shadow: 0px 1px 3px 1px rgba(0, 0, 0, 0.15);\n",
              "      filter: drop-shadow(0px 1px 2px rgba(0, 0, 0, 0.3));\n",
              "      fill: #FFFFFF;\n",
              "    }\n",
              "  </style>\n",
              "\n",
              "    <script>\n",
              "      const buttonEl =\n",
              "        document.querySelector('#df-232cab60-4755-4f42-8a29-bb0d5302df61 button.colab-df-convert');\n",
              "      buttonEl.style.display =\n",
              "        google.colab.kernel.accessAllowed ? 'block' : 'none';\n",
              "\n",
              "      async function convertToInteractive(key) {\n",
              "        const element = document.querySelector('#df-232cab60-4755-4f42-8a29-bb0d5302df61');\n",
              "        const dataTable =\n",
              "          await google.colab.kernel.invokeFunction('convertToInteractive',\n",
              "                                                    [key], {});\n",
              "        if (!dataTable) return;\n",
              "\n",
              "        const docLinkHtml = 'Like what you see? Visit the ' +\n",
              "          '<a target=\"_blank\" href=https://colab.research.google.com/notebooks/data_table.ipynb>data table notebook</a>'\n",
              "          + ' to learn more about interactive tables.';\n",
              "        element.innerHTML = '';\n",
              "        dataTable['output_type'] = 'display_data';\n",
              "        await google.colab.output.renderOutput(dataTable, element);\n",
              "        const docLink = document.createElement('div');\n",
              "        docLink.innerHTML = docLinkHtml;\n",
              "        element.appendChild(docLink);\n",
              "      }\n",
              "    </script>\n",
              "  </div>\n",
              "\n",
              "\n",
              "    <div id=\"df-f1e02949-e83a-4ec6-9655-5460331e6753\">\n",
              "      <button class=\"colab-df-quickchart\" onclick=\"quickchart('df-f1e02949-e83a-4ec6-9655-5460331e6753')\"\n",
              "                title=\"Suggest charts\"\n",
              "                style=\"display:none;\">\n",
              "\n",
              "<svg xmlns=\"http://www.w3.org/2000/svg\" height=\"24px\"viewBox=\"0 0 24 24\"\n",
              "     width=\"24px\">\n",
              "    <g>\n",
              "        <path d=\"M19 3H5c-1.1 0-2 .9-2 2v14c0 1.1.9 2 2 2h14c1.1 0 2-.9 2-2V5c0-1.1-.9-2-2-2zM9 17H7v-7h2v7zm4 0h-2V7h2v10zm4 0h-2v-4h2v4z\"/>\n",
              "    </g>\n",
              "</svg>\n",
              "      </button>\n",
              "\n",
              "<style>\n",
              "  .colab-df-quickchart {\n",
              "      --bg-color: #E8F0FE;\n",
              "      --fill-color: #1967D2;\n",
              "      --hover-bg-color: #E2EBFA;\n",
              "      --hover-fill-color: #174EA6;\n",
              "      --disabled-fill-color: #AAA;\n",
              "      --disabled-bg-color: #DDD;\n",
              "  }\n",
              "\n",
              "  [theme=dark] .colab-df-quickchart {\n",
              "      --bg-color: #3B4455;\n",
              "      --fill-color: #D2E3FC;\n",
              "      --hover-bg-color: #434B5C;\n",
              "      --hover-fill-color: #FFFFFF;\n",
              "      --disabled-bg-color: #3B4455;\n",
              "      --disabled-fill-color: #666;\n",
              "  }\n",
              "\n",
              "  .colab-df-quickchart {\n",
              "    background-color: var(--bg-color);\n",
              "    border: none;\n",
              "    border-radius: 50%;\n",
              "    cursor: pointer;\n",
              "    display: none;\n",
              "    fill: var(--fill-color);\n",
              "    height: 32px;\n",
              "    padding: 0;\n",
              "    width: 32px;\n",
              "  }\n",
              "\n",
              "  .colab-df-quickchart:hover {\n",
              "    background-color: var(--hover-bg-color);\n",
              "    box-shadow: 0 1px 2px rgba(60, 64, 67, 0.3), 0 1px 3px 1px rgba(60, 64, 67, 0.15);\n",
              "    fill: var(--button-hover-fill-color);\n",
              "  }\n",
              "\n",
              "  .colab-df-quickchart-complete:disabled,\n",
              "  .colab-df-quickchart-complete:disabled:hover {\n",
              "    background-color: var(--disabled-bg-color);\n",
              "    fill: var(--disabled-fill-color);\n",
              "    box-shadow: none;\n",
              "  }\n",
              "\n",
              "  .colab-df-spinner {\n",
              "    border: 2px solid var(--fill-color);\n",
              "    border-color: transparent;\n",
              "    border-bottom-color: var(--fill-color);\n",
              "    animation:\n",
              "      spin 1s steps(1) infinite;\n",
              "  }\n",
              "\n",
              "  @keyframes spin {\n",
              "    0% {\n",
              "      border-color: transparent;\n",
              "      border-bottom-color: var(--fill-color);\n",
              "      border-left-color: var(--fill-color);\n",
              "    }\n",
              "    20% {\n",
              "      border-color: transparent;\n",
              "      border-left-color: var(--fill-color);\n",
              "      border-top-color: var(--fill-color);\n",
              "    }\n",
              "    30% {\n",
              "      border-color: transparent;\n",
              "      border-left-color: var(--fill-color);\n",
              "      border-top-color: var(--fill-color);\n",
              "      border-right-color: var(--fill-color);\n",
              "    }\n",
              "    40% {\n",
              "      border-color: transparent;\n",
              "      border-right-color: var(--fill-color);\n",
              "      border-top-color: var(--fill-color);\n",
              "    }\n",
              "    60% {\n",
              "      border-color: transparent;\n",
              "      border-right-color: var(--fill-color);\n",
              "    }\n",
              "    80% {\n",
              "      border-color: transparent;\n",
              "      border-right-color: var(--fill-color);\n",
              "      border-bottom-color: var(--fill-color);\n",
              "    }\n",
              "    90% {\n",
              "      border-color: transparent;\n",
              "      border-bottom-color: var(--fill-color);\n",
              "    }\n",
              "  }\n",
              "</style>\n",
              "\n",
              "      <script>\n",
              "        async function quickchart(key) {\n",
              "          const quickchartButtonEl =\n",
              "            document.querySelector('#' + key + ' button');\n",
              "          quickchartButtonEl.disabled = true;  // To prevent multiple clicks.\n",
              "          quickchartButtonEl.classList.add('colab-df-spinner');\n",
              "          try {\n",
              "            const charts = await google.colab.kernel.invokeFunction(\n",
              "                'suggestCharts', [key], {});\n",
              "          } catch (error) {\n",
              "            console.error('Error during call to suggestCharts:', error);\n",
              "          }\n",
              "          quickchartButtonEl.classList.remove('colab-df-spinner');\n",
              "          quickchartButtonEl.classList.add('colab-df-quickchart-complete');\n",
              "        }\n",
              "        (() => {\n",
              "          let quickchartButtonEl =\n",
              "            document.querySelector('#df-f1e02949-e83a-4ec6-9655-5460331e6753 button');\n",
              "          quickchartButtonEl.style.display =\n",
              "            google.colab.kernel.accessAllowed ? 'block' : 'none';\n",
              "        })();\n",
              "      </script>\n",
              "    </div>\n",
              "    </div>\n",
              "  </div>\n"
            ],
            "application/vnd.google.colaboratory.intrinsic+json": {
              "type": "dataframe",
              "variable_name": "data",
              "summary": "{\n  \"name\": \"data\",\n  \"rows\": 4653,\n  \"fields\": [\n    {\n      \"column\": \"Education\",\n      \"properties\": {\n        \"dtype\": \"category\",\n        \"num_unique_values\": 3,\n        \"samples\": [\n          \"Bachelors\",\n          \"Masters\",\n          \"PHD\"\n        ],\n        \"semantic_type\": \"\",\n        \"description\": \"\"\n      }\n    },\n    {\n      \"column\": \"JoiningYear\",\n      \"properties\": {\n        \"dtype\": \"number\",\n        \"std\": 1,\n        \"min\": 2012,\n        \"max\": 2018,\n        \"num_unique_values\": 7,\n        \"samples\": [\n          2017,\n          2013,\n          2012\n        ],\n        \"semantic_type\": \"\",\n        \"description\": \"\"\n      }\n    },\n    {\n      \"column\": \"City\",\n      \"properties\": {\n        \"dtype\": \"category\",\n        \"num_unique_values\": 3,\n        \"samples\": [\n          \"Bangalore\",\n          \"Pune\",\n          \"New Delhi\"\n        ],\n        \"semantic_type\": \"\",\n        \"description\": \"\"\n      }\n    },\n    {\n      \"column\": \"PaymentTier\",\n      \"properties\": {\n        \"dtype\": \"number\",\n        \"std\": 0,\n        \"min\": 1,\n        \"max\": 3,\n        \"num_unique_values\": 3,\n        \"samples\": [\n          3,\n          1,\n          2\n        ],\n        \"semantic_type\": \"\",\n        \"description\": \"\"\n      }\n    },\n    {\n      \"column\": \"Age\",\n      \"properties\": {\n        \"dtype\": \"number\",\n        \"std\": 4,\n        \"min\": 22,\n        \"max\": 41,\n        \"num_unique_values\": 20,\n        \"samples\": [\n          34,\n          35,\n          26\n        ],\n        \"semantic_type\": \"\",\n        \"description\": \"\"\n      }\n    },\n    {\n      \"column\": \"Gender\",\n      \"properties\": {\n        \"dtype\": \"category\",\n        \"num_unique_values\": 2,\n        \"samples\": [\n          \"Female\",\n          \"Male\"\n        ],\n        \"semantic_type\": \"\",\n        \"description\": \"\"\n      }\n    },\n    {\n      \"column\": \"EverBenched\",\n      \"properties\": {\n        \"dtype\": \"category\",\n        \"num_unique_values\": 2,\n        \"samples\": [\n          \"Yes\",\n          \"No\"\n        ],\n        \"semantic_type\": \"\",\n        \"description\": \"\"\n      }\n    },\n    {\n      \"column\": \"ExperienceInCurrentDomain\",\n      \"properties\": {\n        \"dtype\": \"number\",\n        \"std\": 1,\n        \"min\": 0,\n        \"max\": 7,\n        \"num_unique_values\": 8,\n        \"samples\": [\n          3,\n          4\n        ],\n        \"semantic_type\": \"\",\n        \"description\": \"\"\n      }\n    },\n    {\n      \"column\": \"LeaveOrNot\",\n      \"properties\": {\n        \"dtype\": \"number\",\n        \"std\": 0,\n        \"min\": 0,\n        \"max\": 1,\n        \"num_unique_values\": 2,\n        \"samples\": [\n          1,\n          0\n        ],\n        \"semantic_type\": \"\",\n        \"description\": \"\"\n      }\n    }\n  ]\n}"
            }
          },
          "metadata": {},
          "execution_count": 63
        }
      ]
    },
    {
      "cell_type": "code",
      "source": [
        "categorical_columns = [c for c in data.columns if data[c].dtype.name == 'object']\n",
        "numerical_columns   = [c for c in data.columns if data[c].dtype.name != 'object']\n",
        "print (categorical_columns)\n",
        "print (numerical_columns)"
      ],
      "metadata": {
        "colab": {
          "base_uri": "https://localhost:8080/"
        },
        "id": "LHT3mWuP3yrs",
        "outputId": "489bf55d-d5f6-4b40-a735-f25eb344b879"
      },
      "execution_count": null,
      "outputs": [
        {
          "output_type": "stream",
          "name": "stdout",
          "text": [
            "['Education', 'City', 'Gender', 'EverBenched']\n",
            "['JoiningYear', 'PaymentTier', 'Age', 'ExperienceInCurrentDomain', 'LeaveOrNot']\n"
          ]
        }
      ]
    },
    {
      "cell_type": "code",
      "source": [
        "for c in categorical_columns:\n",
        "    print (data[c].unique())"
      ],
      "metadata": {
        "colab": {
          "base_uri": "https://localhost:8080/"
        },
        "id": "sbRsT3cXld7E",
        "outputId": "2e2fc590-c57d-4301-d18a-1df0ffd8a9ab"
      },
      "execution_count": null,
      "outputs": [
        {
          "output_type": "stream",
          "name": "stdout",
          "text": [
            "['Bachelors' 'Masters' 'PHD']\n",
            "['Bangalore' 'Pune' 'New Delhi']\n",
            "['Male' 'Female']\n",
            "['No' 'Yes']\n"
          ]
        }
      ]
    },
    {
      "cell_type": "code",
      "source": [
        "#Выделим бинарные и небинарные признаки\n",
        "data_describe = data.describe(include=[object])\n",
        "binary_columns    = [c for c in categorical_columns if data_describe[c]['unique'] == 2]\n",
        "nonbinary_columns = [c for c in categorical_columns if data_describe[c]['unique'] > 2]\n",
        "print (binary_columns)\n",
        "print (nonbinary_columns)"
      ],
      "metadata": {
        "colab": {
          "base_uri": "https://localhost:8080/"
        },
        "id": "h7o7odUp-gKX",
        "outputId": "b4169cf3-5bc9-4f71-c174-c467d82bd626"
      },
      "execution_count": null,
      "outputs": [
        {
          "output_type": "stream",
          "name": "stdout",
          "text": [
            "['Gender', 'EverBenched']\n",
            "['Education', 'City']\n"
          ]
        }
      ]
    },
    {
      "cell_type": "code",
      "source": [
        "# Заменим бинарные признаки на 0 и 1\n",
        "for c in binary_columns:\n",
        "    top = data_describe[c]['top']\n",
        "    top_items = data[c] == top\n",
        "    data.loc[top_items, c] = 0\n",
        "    data.loc[np.logical_not(top_items), c] = 1"
      ],
      "metadata": {
        "id": "m5SwhxlmmM2O"
      },
      "execution_count": null,
      "outputs": []
    },
    {
      "cell_type": "code",
      "source": [
        "# Метод векторизации для небинарных признаков\n",
        "data_nonbinary = pd.get_dummies(data[nonbinary_columns])\n",
        "\n",
        "# Нормализация числовых данных\n",
        "data_numerical = data[numerical_columns]\n",
        "data_numerical = (data_numerical - data_numerical.mean()) / data_numerical.std()\n",
        "\n",
        "# Объединение данных\n",
        "data_processed = pd.concat([data_nonbinary, data_numerical], axis=1)"
      ],
      "metadata": {
        "id": "hFLbL_eBGZ20"
      },
      "execution_count": null,
      "outputs": []
    },
    {
      "cell_type": "code",
      "source": [
        "from sklearn.preprocessing import LabelEncoder\n",
        "\n",
        "label_encoder = LabelEncoder()\n",
        "\n",
        "# Преобразуем нужные столбцы\n",
        "data['Education'] = label_encoder.fit_transform(data['Education'])\n",
        "data['City'] = label_encoder.fit_transform(data['City'])\n",
        "data['Gender'] = label_encoder.fit_transform(data['Gender'])\n",
        "data['EverBenched'] = label_encoder.fit_transform(data['EverBenched'])"
      ],
      "metadata": {
        "id": "nreZjWNyDtN2"
      },
      "execution_count": null,
      "outputs": []
    },
    {
      "cell_type": "code",
      "source": [
        "y = data['LeaveOrNot']\n",
        "X = data_processed\n",
        "feature_names = X.columns\n",
        "\n",
        "print(feature_names)\n",
        "print(X.shape)\n",
        "print(y.shape)\n",
        "\n",
        "N, d = X.shape"
      ],
      "metadata": {
        "colab": {
          "base_uri": "https://localhost:8080/"
        },
        "id": "Tu2644sXHVbh",
        "outputId": "571c8a99-6b95-4992-d42e-769a956ef1f5"
      },
      "execution_count": null,
      "outputs": [
        {
          "output_type": "stream",
          "name": "stdout",
          "text": [
            "Index(['Education_Bachelors', 'Education_Masters', 'Education_PHD',\n",
            "       'City_Bangalore', 'City_New Delhi', 'City_Pune', 'JoiningYear',\n",
            "       'PaymentTier', 'Age', 'ExperienceInCurrentDomain', 'LeaveOrNot'],\n",
            "      dtype='object')\n",
            "(4653, 11)\n",
            "(4653,)\n"
          ]
        }
      ]
    },
    {
      "cell_type": "code",
      "source": [
        "#Разбиение данных на обучающую/тестовую выборки\n",
        "from sklearn.model_selection import train_test_split\n",
        "X_train, X_test, y_train, y_test = train_test_split(X, y, test_size = 0.3, random_state = 11)\n",
        "\n",
        "N_train, _ = X_train.shape\n",
        "N_test,  _ = X_test.shape\n",
        "print (N_train, N_test)"
      ],
      "metadata": {
        "colab": {
          "base_uri": "https://localhost:8080/"
        },
        "id": "dj19hs6IpFKh",
        "outputId": "01b4ab15-d1f3-4764-db51-febf505dfb5c"
      },
      "execution_count": null,
      "outputs": [
        {
          "output_type": "stream",
          "name": "stdout",
          "text": [
            "3257 1396\n"
          ]
        }
      ]
    },
    {
      "cell_type": "code",
      "source": [
        "y_train = y_train.astype(int)\n",
        "y_test = y_test.astype(int)"
      ],
      "metadata": {
        "id": "KYO2YFh4rb8Q"
      },
      "execution_count": null,
      "outputs": []
    },
    {
      "cell_type": "code",
      "source": [
        "\"\"\"а) поиск по сетке с использованием\n",
        "пакета scikit-learn\"\"\"\n",
        "from sklearn.ensemble import RandomForestClassifier\n",
        "from sklearn.model_selection import GridSearchCV\n",
        "from sklearn.metrics import classification_report\n",
        "\n",
        "rf = RandomForestClassifier()\n",
        "\n",
        "grid_space = {\n",
        "    'max_depth': [2, 3],\n",
        "    'n_estimators': [10, 30],\n",
        "    'max_features': [1, 2],\n",
        "    'min_samples_leaf': [2, 4],\n",
        "    'min_samples_split': [4]\n",
        "}\n",
        "\n",
        "grid = GridSearchCV(rf,param_grid=grid_space,cv=5,scoring='accuracy', n_jobs=-1)\n",
        "model_grid = grid.fit(X, y)\n",
        "\n",
        "print('Best hyperparameters are: '+str(model_grid.best_params_))\n",
        "print('Best score is: '+str(model_grid.best_score_))\n",
        "\n",
        "# Прогнозирование на тестовых данных\n",
        "y_pred = model_grid.predict(X_test)\n",
        "\n",
        "# Оценка модели с использованием classification_report\n",
        "print(classification_report(y_test, y_pred))"
      ],
      "metadata": {
        "colab": {
          "base_uri": "https://localhost:8080/"
        },
        "id": "YbRf6kRGpJLO",
        "outputId": "68c6ae6e-d6ab-41bb-e103-ced544f488e9"
      },
      "execution_count": null,
      "outputs": [
        {
          "output_type": "stream",
          "name": "stdout",
          "text": [
            "Best hyperparameters are: {'max_depth': 3, 'max_features': 2, 'min_samples_leaf': 4, 'min_samples_split': 4, 'n_estimators': 30}\n",
            "Best score is: 0.9924812030075187\n",
            "              precision    recall  f1-score   support\n",
            "\n",
            "           0       0.98      1.00      0.99       913\n",
            "           1       1.00      0.97      0.99       483\n",
            "\n",
            "    accuracy                           0.99      1396\n",
            "   macro avg       0.99      0.99      0.99      1396\n",
            "weighted avg       0.99      0.99      0.99      1396\n",
            "\n"
          ]
        }
      ]
    },
    {
      "cell_type": "code",
      "source": [
        "pip install h2o"
      ],
      "metadata": {
        "colab": {
          "base_uri": "https://localhost:8080/"
        },
        "id": "Irg2WQX6xl24",
        "outputId": "3406f4fa-e70e-43c8-bc32-e02d4860f15e"
      },
      "execution_count": null,
      "outputs": [
        {
          "output_type": "stream",
          "name": "stdout",
          "text": [
            "Collecting h2o\n",
            "  Downloading h2o-3.46.0.7-py2.py3-none-any.whl.metadata (2.1 kB)\n",
            "Requirement already satisfied: requests in /usr/local/lib/python3.11/dist-packages (from h2o) (2.32.3)\n",
            "Requirement already satisfied: tabulate in /usr/local/lib/python3.11/dist-packages (from h2o) (0.9.0)\n",
            "Requirement already satisfied: charset-normalizer<4,>=2 in /usr/local/lib/python3.11/dist-packages (from requests->h2o) (3.4.1)\n",
            "Requirement already satisfied: idna<4,>=2.5 in /usr/local/lib/python3.11/dist-packages (from requests->h2o) (3.10)\n",
            "Requirement already satisfied: urllib3<3,>=1.21.1 in /usr/local/lib/python3.11/dist-packages (from requests->h2o) (2.3.0)\n",
            "Requirement already satisfied: certifi>=2017.4.17 in /usr/local/lib/python3.11/dist-packages (from requests->h2o) (2025.1.31)\n",
            "Downloading h2o-3.46.0.7-py2.py3-none-any.whl (265.9 MB)\n",
            "\u001b[2K   \u001b[90m━━━━━━━━━━━━━━━━━━━━━━━━━━━━━━━━━━━━━━━━\u001b[0m \u001b[32m265.9/265.9 MB\u001b[0m \u001b[31m4.1 MB/s\u001b[0m eta \u001b[36m0:00:00\u001b[0m\n",
            "\u001b[?25hInstalling collected packages: h2o\n",
            "Successfully installed h2o-3.46.0.7\n"
          ]
        }
      ]
    },
    {
      "cell_type": "code",
      "source": [
        "\"\"\"б) оптимизация гиперпараметров и выбор модели с помощью\n",
        "H2O AutoML\"\"\"\n",
        "import h2o\n",
        "from h2o.automl import H2OAutoML\n",
        "h2o.init()"
      ],
      "metadata": {
        "colab": {
          "base_uri": "https://localhost:8080/",
          "height": 378
        },
        "id": "_-tGTZ6qsGbC",
        "outputId": "c8e59e76-53f3-4343-d640-7fcd5fff732f"
      },
      "execution_count": null,
      "outputs": [
        {
          "output_type": "stream",
          "name": "stdout",
          "text": [
            "Checking whether there is an H2O instance running at http://localhost:54321. connected.\n"
          ]
        },
        {
          "output_type": "display_data",
          "data": {
            "text/plain": [
              "--------------------------  -----------------------------------------------------------------------------------------\n",
              "H2O_cluster_uptime:         1 hour 14 mins\n",
              "H2O_cluster_timezone:       Etc/UTC\n",
              "H2O_data_parsing_timezone:  UTC\n",
              "H2O_cluster_version:        3.46.0.7\n",
              "H2O_cluster_version_age:    29 days\n",
              "H2O_cluster_name:           H2O_from_python_unknownUser_nd96ct\n",
              "H2O_cluster_total_nodes:    1\n",
              "H2O_cluster_free_memory:    2.793 Gb\n",
              "H2O_cluster_total_cores:    2\n",
              "H2O_cluster_allowed_cores:  2\n",
              "H2O_cluster_status:         locked, healthy\n",
              "H2O_connection_url:         http://localhost:54321\n",
              "H2O_connection_proxy:       {\"http\": null, \"https\": null, \"colab_language_server\": \"/usr/colab/bin/language_service\"}\n",
              "H2O_internal_security:      False\n",
              "Python_version:             3.11.12 final\n",
              "--------------------------  -----------------------------------------------------------------------------------------"
            ],
            "text/html": [
              "\n",
              "<style>\n",
              "\n",
              "#h2o-table-2.h2o-container {\n",
              "  overflow-x: auto;\n",
              "}\n",
              "#h2o-table-2 .h2o-table {\n",
              "  /* width: 100%; */\n",
              "  margin-top: 1em;\n",
              "  margin-bottom: 1em;\n",
              "}\n",
              "#h2o-table-2 .h2o-table caption {\n",
              "  white-space: nowrap;\n",
              "  caption-side: top;\n",
              "  text-align: left;\n",
              "  /* margin-left: 1em; */\n",
              "  margin: 0;\n",
              "  font-size: larger;\n",
              "}\n",
              "#h2o-table-2 .h2o-table thead {\n",
              "  white-space: nowrap; \n",
              "  position: sticky;\n",
              "  top: 0;\n",
              "  box-shadow: 0 -1px inset;\n",
              "}\n",
              "#h2o-table-2 .h2o-table tbody {\n",
              "  overflow: auto;\n",
              "}\n",
              "#h2o-table-2 .h2o-table th,\n",
              "#h2o-table-2 .h2o-table td {\n",
              "  text-align: right;\n",
              "  /* border: 1px solid; */\n",
              "}\n",
              "#h2o-table-2 .h2o-table tr:nth-child(even) {\n",
              "  /* background: #F5F5F5 */\n",
              "}\n",
              "\n",
              "</style>      \n",
              "<div id=\"h2o-table-2\" class=\"h2o-container\">\n",
              "  <table class=\"h2o-table\">\n",
              "    <caption></caption>\n",
              "    <thead></thead>\n",
              "    <tbody><tr><td>H2O_cluster_uptime:</td>\n",
              "<td>1 hour 14 mins</td></tr>\n",
              "<tr><td>H2O_cluster_timezone:</td>\n",
              "<td>Etc/UTC</td></tr>\n",
              "<tr><td>H2O_data_parsing_timezone:</td>\n",
              "<td>UTC</td></tr>\n",
              "<tr><td>H2O_cluster_version:</td>\n",
              "<td>3.46.0.7</td></tr>\n",
              "<tr><td>H2O_cluster_version_age:</td>\n",
              "<td>29 days</td></tr>\n",
              "<tr><td>H2O_cluster_name:</td>\n",
              "<td>H2O_from_python_unknownUser_nd96ct</td></tr>\n",
              "<tr><td>H2O_cluster_total_nodes:</td>\n",
              "<td>1</td></tr>\n",
              "<tr><td>H2O_cluster_free_memory:</td>\n",
              "<td>2.793 Gb</td></tr>\n",
              "<tr><td>H2O_cluster_total_cores:</td>\n",
              "<td>2</td></tr>\n",
              "<tr><td>H2O_cluster_allowed_cores:</td>\n",
              "<td>2</td></tr>\n",
              "<tr><td>H2O_cluster_status:</td>\n",
              "<td>locked, healthy</td></tr>\n",
              "<tr><td>H2O_connection_url:</td>\n",
              "<td>http://localhost:54321</td></tr>\n",
              "<tr><td>H2O_connection_proxy:</td>\n",
              "<td>{\"http\": null, \"https\": null, \"colab_language_server\": \"/usr/colab/bin/language_service\"}</td></tr>\n",
              "<tr><td>H2O_internal_security:</td>\n",
              "<td>False</td></tr>\n",
              "<tr><td>Python_version:</td>\n",
              "<td>3.11.12 final</td></tr></tbody>\n",
              "  </table>\n",
              "</div>\n"
            ]
          },
          "metadata": {}
        }
      ]
    },
    {
      "cell_type": "code",
      "source": [
        "hf = h2o.H2OFrame(data)\n",
        "\n",
        "# Сделаем целевую переменную фактором (для классификации)\n",
        "hf['LeaveOrNot'] = hf['LeaveOrNot'].asfactor()\n",
        "\n",
        "# train/test split\n",
        "train, test = hf.split_frame(ratios=[0.7], seed=11)\n",
        "\n",
        "x = hf.columns\n",
        "y = 'LeaveOrNot'\n",
        "x.remove(y)\n",
        "\n",
        "# Обучение\n",
        "aml = H2OAutoML(max_models=5, seed=1)\n",
        "aml.train(x=x, y=y, training_frame=train)\n",
        "\n",
        "# Предсказание\n",
        "preds = aml.leader.predict(test)\n",
        "print(preds.head())"
      ],
      "metadata": {
        "colab": {
          "base_uri": "https://localhost:8080/"
        },
        "id": "SvOoLUbjz_HZ",
        "outputId": "b0dac8f9-70cb-45c8-93cd-ef3870130525"
      },
      "execution_count": null,
      "outputs": [
        {
          "output_type": "stream",
          "name": "stdout",
          "text": [
            "Parse progress: |████████████████████████████████████████████████████████████████| (done) 100%\n",
            "AutoML progress: |\n",
            "07:46:51.489: _train param, Dropping bad and constant columns: [EverBenched, Gender]\n",
            "\n",
            "█\n",
            "07:46:55.242: _train param, Dropping bad and constant columns: [EverBenched, Gender]\n",
            "\n",
            "\n",
            "07:46:56.198: _train param, Dropping bad and constant columns: [EverBenched, Gender]\n",
            "\n",
            "███\n",
            "07:47:00.253: _train param, Dropping bad and constant columns: [EverBenched, Gender]\n",
            "\n",
            "█\n",
            "07:47:02.603: _train param, Dropping bad and constant columns: [EverBenched, Gender]\n",
            "\n",
            "██\n",
            "07:47:06.671: _train param, Dropping unused columns: [EverBenched, Gender]\n",
            "\n",
            "███\n",
            "07:47:11.668: _train param, Dropping unused columns: [EverBenched, Gender]\n",
            "\n",
            "█████████████████████████████████████████████████████| (done) 100%\n",
            "stackedensemble prediction progress: |███████████████████████████████████████████| (done) 100%\n",
            "  predict        p0         p1\n",
            "        0  0.780327  0.219673\n",
            "        0  0.905961  0.0940386\n",
            "        1  0.205133  0.794867\n",
            "        0  0.828388  0.171612\n",
            "        0  0.864891  0.135109\n",
            "        1  0.374417  0.625583\n",
            "        0  0.882748  0.117252\n",
            "        0  0.865293  0.134707\n",
            "        0  0.839831  0.160169\n",
            "        0  0.913844  0.0861558\n",
            "[10 rows x 3 columns]\n",
            "\n"
          ]
        }
      ]
    },
    {
      "cell_type": "code",
      "source": [
        "preds_pd = preds.as_data_frame()\n",
        "\n",
        "plt.figure(figsize=(10, 6))\n",
        "plt.hist(preds_pd['p0'], bins=50, alpha=0.6, label='p0 (остался в компании)', color='lightblue', edgecolor='black')\n",
        "plt.hist(preds_pd['p1'], bins=50, alpha=0.6, label='p1 (уволился)', color='orange', edgecolor='black')\n",
        "\n",
        "plt.title('Распределение вероятностей p0 и p1 для LeaveOrNot')\n",
        "plt.xlabel('Вероятность')\n",
        "plt.ylabel('Количество')\n",
        "plt.legend()\n",
        "plt.grid(True)\n",
        "plt.show()"
      ],
      "metadata": {
        "colab": {
          "base_uri": "https://localhost:8080/",
          "height": 641
        },
        "id": "OfkDH3e6TzqQ",
        "outputId": "d294c66a-8f03-43a4-82c4-761d9106ddb6"
      },
      "execution_count": null,
      "outputs": [
        {
          "output_type": "stream",
          "name": "stderr",
          "text": [
            "/usr/local/lib/python3.11/dist-packages/h2o/frame.py:1983: H2ODependencyWarning: Converting H2O frame to pandas dataframe using single-thread.  For faster conversion using multi-thread, install polars and pyarrow and use it as pandas_df = h2o_df.as_data_frame(use_multi_thread=True)\n",
            "\n",
            "  warnings.warn(\"Converting H2O frame to pandas dataframe using single-thread.  For faster conversion using\"\n"
          ]
        },
        {
          "output_type": "display_data",
          "data": {
            "text/plain": [
              "<Figure size 1000x600 with 1 Axes>"
            ],
            "image/png": "[encoded data removed]"
          },
          "metadata": {}
        }
      ]
    },
    {
      "cell_type": "code",
      "source": [
        "# МНОГОКЛАССОВАЯ КЛАССИФИКАЦИЯ\n",
        "def classify_age(age):\n",
        "    if age < 30:\n",
        "        return 0  # Молодые\n",
        "    elif 30 <= age < 40:\n",
        "        return 1  # Средний возраст\n",
        "    else:\n",
        "        return 2  # Старший возраст\n",
        "\n",
        "# Применяем функцию для создания новой целевой переменной\n",
        "data['age_group'] = data['Age'].apply(classify_age)"
      ],
      "metadata": {
        "id": "a2Xlf6ZA8vAy"
      },
      "execution_count": null,
      "outputs": []
    },
    {
      "cell_type": "code",
      "source": [
        "X = data.drop(columns=['LeaveOrNot', 'age_group'])  # Признаки\n",
        "y = data['age_group']  # Целевая переменная (группы по возрасту)\n",
        "\n",
        "# Разделяем на обучающую и тестовую выборки\n",
        "X_train_multiclass, X_test_multiclass, y_train_multiclass, y_test_multiclass = train_test_split(\n",
        "    X, y, test_size=0.2, random_state=42, stratify=y\n",
        ")\n",
        "\n",
        "# Проверяем размеры\n",
        "print(X_train_multiclass.shape[0])\n",
        "print(X_test_multiclass.shape[0])"
      ],
      "metadata": {
        "colab": {
          "base_uri": "https://localhost:8080/"
        },
        "id": "ylkId0f4Arb8",
        "outputId": "be66ef4b-39bf-4af7-9e91-004a827ce642"
      },
      "execution_count": null,
      "outputs": [
        {
          "output_type": "stream",
          "name": "stdout",
          "text": [
            "3722\n",
            "931\n"
          ]
        }
      ]
    },
    {
      "cell_type": "code",
      "source": [
        "\"\"\"а) поиск по сетке с использованием\n",
        "пакета scikit-learn\"\"\"\n",
        "rf = RandomForestClassifier(random_state=42)\n",
        "\n",
        "grid_space = {\n",
        "    'max_depth': [2, 3],\n",
        "    'n_estimators': [10, 30],\n",
        "    'max_features': [1, 2],\n",
        "    'min_samples_leaf': [2, 4],\n",
        "    'min_samples_split': [4]\n",
        "}\n",
        "\n",
        "grid = GridSearchCV(\n",
        "    rf,\n",
        "    param_grid=grid_space,\n",
        "    cv=5,\n",
        "    scoring='accuracy',\n",
        "    n_jobs=-1\n",
        ")\n",
        "\n",
        "model_grid = grid.fit(X_train_multiclass, y_train_multiclass)\n",
        "\n",
        "print('Best hyperparameters are: ' + str(model_grid.best_params_))\n",
        "print('Best score is: ' + str(model_grid.best_score_))\n",
        "\n",
        "y_pred_multiclass = model_grid.predict(X_test_multiclass)\n",
        "\n",
        "# Оценка модели\n",
        "print(classification_report(y_test_multiclass, y_pred_multiclass))"
      ],
      "metadata": {
        "colab": {
          "base_uri": "https://localhost:8080/"
        },
        "id": "gnOCppLuBYi5",
        "outputId": "5f2d5751-29e6-4bc8-ef26-4c8649b5fd5e"
      },
      "execution_count": null,
      "outputs": [
        {
          "output_type": "stream",
          "name": "stdout",
          "text": [
            "Best hyperparameters are: {'max_depth': 3, 'max_features': 2, 'min_samples_leaf': 2, 'min_samples_split': 4, 'n_estimators': 10}\n",
            "Best score is: 0.9535198816482644\n",
            "              precision    recall  f1-score   support\n",
            "\n",
            "           0       1.00      1.00      1.00       606\n",
            "           1       0.87      1.00      0.93       282\n",
            "           2       0.00      0.00      0.00        43\n",
            "\n",
            "    accuracy                           0.95       931\n",
            "   macro avg       0.62      0.67      0.64       931\n",
            "weighted avg       0.91      0.95      0.93       931\n",
            "\n"
          ]
        },
        {
          "output_type": "stream",
          "name": "stderr",
          "text": [
            "/usr/local/lib/python3.11/dist-packages/sklearn/metrics/_classification.py:1565: UndefinedMetricWarning: Precision is ill-defined and being set to 0.0 in labels with no predicted samples. Use `zero_division` parameter to control this behavior.\n",
            "  _warn_prf(average, modifier, f\"{metric.capitalize()} is\", len(result))\n",
            "/usr/local/lib/python3.11/dist-packages/sklearn/metrics/_classification.py:1565: UndefinedMetricWarning: Precision is ill-defined and being set to 0.0 in labels with no predicted samples. Use `zero_division` parameter to control this behavior.\n",
            "  _warn_prf(average, modifier, f\"{metric.capitalize()} is\", len(result))\n",
            "/usr/local/lib/python3.11/dist-packages/sklearn/metrics/_classification.py:1565: UndefinedMetricWarning: Precision is ill-defined and being set to 0.0 in labels with no predicted samples. Use `zero_division` parameter to control this behavior.\n",
            "  _warn_prf(average, modifier, f\"{metric.capitalize()} is\", len(result))\n"
          ]
        }
      ]
    },
    {
      "cell_type": "code",
      "source": [
        "\"\"\"б) оптимизация гиперпараметров и выбор модели с помощью\n",
        "H2O AutoML\"\"\"\n",
        "\n",
        "# Загрузка данных в H2O\n",
        "hf = h2o.H2OFrame(data)\n",
        "\n",
        "# Преобразуем целевую переменную в фактор для многоклассовой классификации\n",
        "hf['age_group'] = hf['age_group'].asfactor()\n",
        "\n",
        "# Разделение на обучающую и тестовую выборки\n",
        "train, test = hf.split_frame(ratios=[0.8], seed=42)\n",
        "\n",
        "# Определяем признаки и целевую переменную\n",
        "x = hf.columns\n",
        "y = 'age_group'\n",
        "x.remove(y)\n",
        "\n",
        "print(f\"Признаки: {x}\")\n",
        "print(f\"Целевая переменная: {y}\")\n",
        "\n",
        "# Обучаем модель с помощью AutoML\n",
        "aml = H2OAutoML(max_models=5, seed=42, balance_classes=True)\n",
        "aml.train(x=x, y=y, training_frame=train)\n",
        "\n",
        "# Получаем лучшую модель\n",
        "leader_model = aml.leader\n",
        "\n",
        "# Предсказания на тестовой выборке\n",
        "preds = leader_model.predict(test)\n",
        "print(preds.head())\n",
        "\n",
        "# Оценка производительности\n",
        "perf = leader_model.model_performance(test_data=test)\n",
        "conf_matrix = perf.confusion_matrix()\n",
        "\n",
        "# Выводим таблицу\n",
        "conf_table = conf_matrix.as_data_frame()\n",
        "print(conf_table)\n",
        "\n",
        "# Функция для извлечения чисел из формата '123 / 456'\n",
        "def extract_int(val):\n",
        "    return int(val.split('/')[0].strip()) if isinstance(val, str) and '/' in val else int(val)\n",
        "\n",
        "# Подсчёт количества правильных и всех предсказаний\n",
        "correct_preds = sum([extract_int(conf_matrix.cell_values[i][i]) for i in range(len(conf_matrix.cell_values))])\n",
        "total_preds = sum([sum([extract_int(v) for v in row]) for row in conf_matrix.cell_values])\n",
        "\n",
        "# Метрики\n",
        "accuracy = correct_preds / total_preds\n",
        "logloss = perf.logloss()\n",
        "\n",
        "print(f\"\\nAccuracy: {accuracy:.4f}\")\n",
        "print(f\"LogLoss: {logloss:.4f}\")"
      ],
      "metadata": {
        "colab": {
          "base_uri": "https://localhost:8080/"
        },
        "id": "kCAgZ-xKZHwV",
        "outputId": "4d1e0711-1c90-4c37-8f2b-56171fc97110"
      },
      "execution_count": null,
      "outputs": [
        {
          "output_type": "stream",
          "name": "stdout",
          "text": [
            "Parse progress: |████████████████████████████████████████████████████████████████| (done) 100%\n",
            "Признаки: ['Education', 'JoiningYear', 'City', 'PaymentTier', 'Age', 'Gender', 'EverBenched', 'ExperienceInCurrentDomain', 'LeaveOrNot']\n",
            "Целевая переменная: age_group\n",
            "AutoML progress: |\n",
            "09:01:02.588: _train param, Dropping bad and constant columns: [EverBenched, Gender]\n",
            "\n",
            "█\n",
            "09:01:06.200: _train param, Dropping bad and constant columns: [EverBenched, Gender]\n",
            "\n",
            "███████████\n",
            "09:01:15.695: _train param, Dropping bad and constant columns: [EverBenched, Gender]\n",
            "\n",
            "█████\n",
            "09:03:33.597: _train param, Dropping bad and constant columns: [EverBenched, Gender]\n",
            "\n",
            "█\n",
            "09:03:35.423: _train param, Dropping bad and constant columns: [EverBenched, Gender]\n",
            "\n",
            "█\n",
            "09:03:41.868: _train param, Dropping unused columns: [EverBenched, Gender]\n",
            "\n",
            "███████\n",
            "09:04:28.746: _train param, Dropping unused columns: [EverBenched, Gender]\n",
            "\n",
            "█████████████████████████████████████| (done) 100%\n",
            "glm prediction progress: |███████████████████████████████████████████████████████| (done) 100%\n",
            "  predict           p0           p1           p2\n",
            "        0  0.999991     9.34952e-06  2.17191e-26\n",
            "        1  4.70231e-16  0.999933     6.67611e-05\n",
            "        1  5.76949e-14  0.999998     1.62141e-06\n",
            "        0  0.999993     7.28976e-06  1.93119e-26\n",
            "        0  1            5.04664e-14  3.08436e-41\n",
            "        0  1            6.51354e-08  4.44725e-30\n",
            "        0  1            5.04664e-14  3.08436e-41\n",
            "        0  0.999991     9.02689e-06  2.66368e-26\n",
            "        0  1            6.57083e-08  3.36798e-30\n",
            "        1  0.00105556   0.998944     1.31674e-14\n",
            "[10 rows x 4 columns]\n",
            "\n",
            "       0      1     2  Error     Rate\n",
            "0  605.0    0.0   0.0    0.0  0 / 605\n",
            "1    0.0  274.0   0.0    0.0  0 / 274\n",
            "2    0.0    0.0  38.0    0.0   0 / 38\n",
            "3  605.0  274.0  38.0    0.0  0 / 917\n",
            "\n",
            "Accuracy: 0.5000\n",
            "LogLoss: 0.0172\n"
          ]
        }
      ]
    }
  ]
}